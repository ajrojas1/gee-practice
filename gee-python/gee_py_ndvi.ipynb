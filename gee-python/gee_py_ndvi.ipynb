{
 "cells": [
  {
   "cell_type": "code",
   "execution_count": 1,
   "metadata": {},
   "outputs": [],
   "source": [
    "# Alfredo Rojas\n",
    "# 10/17/2020\n",
    "# description: NDVI extraction, inspired by Qiusheng Wu's GEE tutorial #12\n",
    "# filename: gee_py_ndvi.ipynb\n",
    "\n",
    "import ee\n",
    "import geemap\n",
    "import os"
   ]
  },
  {
   "cell_type": "markdown",
   "metadata": {},
   "source": [
    "TODO: Upload ESRI shp file. Create buffer of 10km and use that as Zonal Stats. . . "
   ]
  },
  {
   "cell_type": "code",
   "execution_count": 52,
   "metadata": {
    "scrolled": true
   },
   "outputs": [
    {
     "data": {
      "application/vnd.jupyter.widget-view+json": {
       "model_id": "53f2fe1e7f1848759a75f7ab9dcd98aa",
       "version_major": 2,
       "version_minor": 0
      },
      "text/plain": [
       "Map(center=[12.36, -2.142], controls=(WidgetControl(options=['position'], widget=HBox(children=(ToggleButton(v…"
      ]
     },
     "metadata": {},
     "output_type": "display_data"
    }
   ],
   "source": [
    "Map = geemap.Map()\n",
    "Map.setCenter(-2.142, 12.36)\n",
    "Map"
   ]
  },
  {
   "cell_type": "code",
   "execution_count": 43,
   "metadata": {},
   "outputs": [],
   "source": [
    "### for 1993 DHS ###\n",
    "#start_date = '1988-01-01'\n",
    "#end_date = '1994-12-31'\n",
    "\n",
    "### for 1998-99 DHS ###\n",
    "#start_date = '1993-01-01'\n",
    "#end_date = '2000-12-31'\n",
    "\n",
    "### for 2003 DHS ###\n",
    "#start_date = '1998-01-01'\n",
    "#end_date = '2004-12-31'\n",
    "\n",
    "### for 2010 DHS ###\n",
    "start_date = '2005-01-01'\n",
    "end_date = '2011-12-31'\n",
    "\n",
    "# Figure out how to filter by ROI -- was getting Layer Error when filterBounds(states) was run. . .\n",
    "# roi = ee.Geometry.Point([-96.86, 40.12])\n",
    "\n",
    "# Add Earth Engine dataset, select NDVI + filter\n",
    "dataset = ee.ImageCollection('NASA/GIMMS/3GV0') \\\n",
    "        .filterDate(start_date, end_date) \n",
    "\n",
    "ndvi = dataset.select('ndvi')\n",
    "\n",
    "#Set visualization parameters.\n",
    "ndvi_vis = {\n",
    "  'min': -1,\n",
    "  'max': 1,\n",
    "  'palette': ['000000', 'f5f5f5', '119701']}\n",
    "\n",
    "# Add Earth Engine AVHRR ndvi to map\n",
    "Map.addLayer(ndvi, ndvi_vis, 'NDVI')\n",
    "\n",
    "# bring in shape files\n",
    "cluster_shp = \"../Articles/HAZ_paper/DHS_Data_CI_BF/BF_Data/geographic/\\\n",
    "BF_2010_DHS_04032020_1546_134297/BFGE61FL/BFGE61FL.shp\"\n",
    "\n",
    "clusters = geemap.shp_to_ee(cluster_shp)\n",
    "Map.addLayer(clusters, {}, 'DHSID')\n",
    "\n",
    "# function to add 10km buffers around DHS clusters\n",
    "def addBuffer(feature):\n",
    "    return feature.buffer(10000)\n",
    "\n",
    "# apply buffer and map\n",
    "buffers = clusters.map(addBuffer)\n",
    "Map.addLayer(buffers, {}, 'buffer')"
   ]
  },
  {
   "cell_type": "markdown",
   "metadata": {},
   "source": [
    "There are some erroneous data points. . . with Lat/Lon = (0,0). Look at DHS manual to see what this means? "
   ]
  },
  {
   "cell_type": "code",
   "execution_count": 44,
   "metadata": {},
   "outputs": [
    {
     "name": "stdout",
     "output_type": "stream",
     "text": [
      "573\n"
     ]
    }
   ],
   "source": [
    "print(clusters.size().getInfo())"
   ]
  },
  {
   "cell_type": "code",
   "execution_count": 45,
   "metadata": {},
   "outputs": [],
   "source": [
    "# In order to do Zonal Stats on NDVI time series, use collection.toBands():\n",
    "ndvi_bands = ndvi.toBands()"
   ]
  },
  {
   "cell_type": "markdown",
   "metadata": {},
   "source": [
    "Note that GEE uses scale during calculations. In Zonal Stats below, you should specify Nominal Scale (resolution in meters) to avoid ambiguity. Methods to get nominal scale are shown below in print() statement. See [here](https://developers.google.com/earth-engine/tutorials/tutorial_api_03)"
   ]
  },
  {
   "cell_type": "code",
   "execution_count": 48,
   "metadata": {},
   "outputs": [
    {
     "name": "stdout",
     "output_type": "stream",
     "text": [
      "9276.624232772796\n"
     ]
    }
   ],
   "source": [
    "# get Nonimal Scale\n",
    "print(ndvi_bands.projection().nominalScale().getInfo())\n",
    "\n",
    "#print(ndvi.size().getInfo())\n",
    "#print(ndvi_bands.bandNames().getInfo())\n",
    "#print(ndvi.bandTypes().getInfo())\n",
    "#type(clusers)\n",
    "#print(buffers.size().getInfo())\n",
    "#print(clusters.getInfo())"
   ]
  },
  {
   "cell_type": "code",
   "execution_count": null,
   "metadata": {},
   "outputs": [],
   "source": [
    "out_dir = os.path.join(os.path.expanduser('~'), 'Downloads')\n",
    "out_ndvi_stats = os.path.join(out_dir, 'ndvi_05to11_mean.csv')  \n",
    "geemap.zonal_statistics(ndvi_bands, buffers, out_ndvi_stats, statistics_type = 'MEAN', scale = 9276)\n",
    "\n",
    "out_ndvi_stats = os.path.join(out_dir, 'ndvi_05to11_max.csv')  \n",
    "geemap.zonal_statistics(ndvi_bands, buffers, out_ndvi_stats, statistics_type = 'MAXIMUM', scale = 9276)\n",
    "\n",
    "out_ndvi_stats = os.path.join(out_dir, 'ndvi_05to11_min.csv')  \n",
    "geemap.zonal_statistics(ndvi_bands, buffers, out_ndvi_stats, statistics_type = 'MINIMUM', scale = 9276)\n",
    "\n",
    "# Allowed output formats: csv, shp, json, kml, kmz\n",
    "# Allowed statistics type: MEAN, MAXIMUM, MINIMUM, MEDIAN, STD, MIN_MAX, VARIANCE, SUM\n",
    "#geemap.zonal_statistics(ndvi_bands, buffers, out_ndvi_stats, statistics_type='MEAN', scale=1000)"
   ]
  }
 ],
 "metadata": {
  "kernelspec": {
   "display_name": "Python 3",
   "language": "python",
   "name": "python3"
  },
  "language_info": {
   "codemirror_mode": {
    "name": "ipython",
    "version": 3
   },
   "file_extension": ".py",
   "mimetype": "text/x-python",
   "name": "python",
   "nbconvert_exporter": "python",
   "pygments_lexer": "ipython3",
   "version": "3.8.3"
  }
 },
 "nbformat": 4,
 "nbformat_minor": 4
}
