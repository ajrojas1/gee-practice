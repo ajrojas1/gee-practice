{
 "cells": [
  {
   "cell_type": "code",
   "execution_count": 1,
   "metadata": {},
   "outputs": [
    {
     "data": {
      "text/plain": [
       "'/Users/alfredorojas/Dropbox/GitHub_2020/gee-practice'"
      ]
     },
     "execution_count": 1,
     "metadata": {},
     "output_type": "execute_result"
    }
   ],
   "source": [
    "# Alfredo Rojas\n",
    "# 12/16/2020\n",
    "# description: NDVI decadal extraction \n",
    "# filename: bf_ndvi_decadal.ipynb\n",
    "\n",
    "import ee\n",
    "import geemap\n",
    "import os\n",
    "\n",
    "os.chdir(\"/Users/alfredorojas/Dropbox/GitHub_2020/gee-practice/\")\n",
    "os.getcwd()"
   ]
  },
  {
   "cell_type": "code",
   "execution_count": 2,
   "metadata": {},
   "outputs": [
    {
     "data": {
      "application/vnd.jupyter.widget-view+json": {
       "model_id": "c35edac1dacf427eb1061b1464c621dc",
       "version_major": 2,
       "version_minor": 0
      },
      "text/plain": [
       "Map(center=[12.36, -2.142], controls=(WidgetControl(options=['position'], widget=HBox(children=(ToggleButton(v…"
      ]
     },
     "metadata": {},
     "output_type": "display_data"
    }
   ],
   "source": [
    "Map = geemap.Map()\n",
    "Map.setCenter(-2.142, 12.36)\n",
    "Map"
   ]
  },
  {
   "cell_type": "markdown",
   "metadata": {},
   "source": [
    "GIMMS NDVI from AVHRR Sensors (3rd Generation) starts on 07-01-1981 and goes from 12-31-2013. Do the process for each round of DHS clusters. I'm not sure of a more elegant way to do this in GEE yet, so I'll just copy&paste 4 times :( The upside to this is that I can just re-run the script for seperate DHS rounds as opposed to doing it in batches. I will work on the workflow a little later.\n",
    "\n",
    "Set up all of the data layers for extraction."
   ]
  },
  {
   "cell_type": "code",
   "execution_count": 3,
   "metadata": {},
   "outputs": [],
   "source": [
    "# 1981 to 1991\n",
    "start_date_81 = '1981-07-01'\n",
    "end_date_91 = '1991-12-31'\n",
    "\n",
    "# 1992 to 2002\n",
    "start_date_92 = '1992-01-01'\n",
    "end_date_02 = '2002-12-31'\n",
    "\n",
    "# 2003 to 2013\n",
    "start_date_03 = '2003-01-01'\n",
    "end_date_13 = '2013-12-31'\n",
    "\n",
    "### Add Earth Engine dataset, select NDVI + filter\n",
    "dataset1 = ee.ImageCollection('NASA/GIMMS/3GV0') \\\n",
    "        .filterDate(start_date_81, end_date_91) \n",
    "\n",
    "ndvi1 = dataset1.select('ndvi')\n",
    "\n",
    "### add second dataset from 92 to 02\n",
    "dataset2 = ee.ImageCollection('NASA/GIMMS/3GV0') \\\n",
    "        .filterDate(start_date_92, end_date_02) \n",
    "\n",
    "ndvi2 = dataset2.select('ndvi')\n",
    "\n",
    "### Add third dataset from 03 to 13\n",
    "dataset3 = ee.ImageCollection('NASA/GIMMS/3GV0') \\\n",
    "        .filterDate(start_date_03, end_date_13) \n",
    "\n",
    "ndvi3 = dataset3.select('ndvi')\n",
    "\n",
    "# bring in shape files for 4 rounds of DHS in order to add 10 km buffers\n",
    "cluster_shp_93 = \"data/BF_1993_DHS_04032020_1547_134297/BFGE23FL/BFGE23FL.shp\"\n",
    "cluster_shp_98 = \"data/BF_1998-99_DHS_04032020_1546_134297/BFGE32FL/BFGE32FL.shp\"\n",
    "cluster_shp_03 = \"data/BF_2003_DHS_04032020_1546_134297/BFGE43FL/BFGE43FL.shp\"\n",
    "cluster_shp_10 = \"data/BF_2010_DHS_04032020_1546_134297/BFGE61FL/BFGE61FL.shp\"\n",
    "\n",
    "clusters1 = geemap.shp_to_ee(cluster_shp_93)\n",
    "clusters2 = geemap.shp_to_ee(cluster_shp_98)\n",
    "clusters3 = geemap.shp_to_ee(cluster_shp_03)\n",
    "clusters4 = geemap.shp_to_ee(cluster_shp_10)\n",
    "\n",
    "# function to add 10km buffers around DHS clusters\n",
    "def addBuffer(feature):\n",
    "    return feature.buffer(10000)\n",
    "\n",
    "# apply buffer \n",
    "buffers1 = clusters1.map(addBuffer)\n",
    "buffers2 = clusters2.map(addBuffer)\n",
    "buffers3 = clusters3.map(addBuffer)\n",
    "buffers4 = clusters4.map(addBuffer)"
   ]
  },
  {
   "cell_type": "markdown",
   "metadata": {},
   "source": [
    "Can visualize to make sure it works. . . Viz 1"
   ]
  },
  {
   "cell_type": "code",
   "execution_count": 4,
   "metadata": {},
   "outputs": [],
   "source": [
    "#Set visualization parameters.\n",
    "ndvi_vis = {\n",
    "  'min': -1,\n",
    "  'max': 1,\n",
    "  'palette': ['000000', 'f5f5f5', '119701']}\n",
    "\n",
    "# Add Earth Engine AVHRR ndvi to map\n",
    "Map.addLayer(ndvi1, ndvi_vis, 'NDVI')"
   ]
  },
  {
   "cell_type": "code",
   "execution_count": 5,
   "metadata": {},
   "outputs": [],
   "source": [
    "# 1993 buffers\n",
    "Map.addLayer(clusters1, {}, 'DHSID')\n",
    "Map.addLayer(buffers1, {}, 'buffer') # seems to be an error in Display above if I try to add more buffers below... why?"
   ]
  },
  {
   "cell_type": "code",
   "execution_count": 6,
   "metadata": {},
   "outputs": [],
   "source": [
    "# 1998 buffers\n",
    "Map.addLayer(clusters2, {}, 'DHSID')\n",
    "Map.addLayer(buffers2, {}, 'buffer')"
   ]
  },
  {
   "cell_type": "code",
   "execution_count": null,
   "metadata": {},
   "outputs": [],
   "source": [
    "# 2003 buffers\n",
    "Map.addLayer(clusters3, {}, 'DHSID')\n",
    "Map.addLayer(buffers3, {}, 'buffer')"
   ]
  },
  {
   "cell_type": "code",
   "execution_count": null,
   "metadata": {},
   "outputs": [],
   "source": [
    "# 2010 buffers\n",
    "Map.addLayer(clusters4, {}, 'DHSID')\n",
    "Map.addLayer(buffers4, {}, 'buffer')"
   ]
  },
  {
   "cell_type": "code",
   "execution_count": 4,
   "metadata": {},
   "outputs": [],
   "source": [
    "# In order to do Zonal Stats on NDVI time series, use collection.toBands():\n",
    "ndvi_bands1 = ndvi1.toBands()\n",
    "ndvi_bands2 = ndvi2.toBands()\n",
    "ndvi_bands3 = ndvi3.toBands()"
   ]
  },
  {
   "cell_type": "code",
   "execution_count": 5,
   "metadata": {},
   "outputs": [
    {
     "name": "stdout",
     "output_type": "stream",
     "text": [
      "573\n"
     ]
    }
   ],
   "source": [
    "print(clusters4.size().getInfo())"
   ]
  },
  {
   "cell_type": "code",
   "execution_count": 8,
   "metadata": {},
   "outputs": [
    {
     "name": "stdout",
     "output_type": "stream",
     "text": [
      "9276.624232772796\n"
     ]
    }
   ],
   "source": [
    "print(ndvi_bands1.projection().nominalScale().getInfo())"
   ]
  },
  {
   "cell_type": "code",
   "execution_count": 9,
   "metadata": {},
   "outputs": [],
   "source": [
    "# output directory for the below Zonal Stats. . . \n",
    "out_dir = os.path.join(os.path.expanduser('~'), 'Downloads')"
   ]
  },
  {
   "cell_type": "markdown",
   "metadata": {},
   "source": [
    "### Decadal for 1993 DHS"
   ]
  },
  {
   "cell_type": "code",
   "execution_count": 10,
   "metadata": {},
   "outputs": [
    {
     "name": "stdout",
     "output_type": "stream",
     "text": [
      "Computing statistics ...\n",
      "Generating URL ...\n",
      "Downloading data from https://earthengine.googleapis.com/v1alpha/projects/earthengine-legacy/tables/6c9a6ad969139d8738999c9b452eaf23-1ea5b56fc5036f0b487d9bf77c9679b0:getFeatures\n",
      "Please wait ...\n",
      "Data downloaded to /Users/alfredorojas/Downloads/DHS1993_ndvi_81to91_mean.csv\n",
      "Computing statistics ...\n",
      "Generating URL ...\n",
      "Downloading data from https://earthengine.googleapis.com/v1alpha/projects/earthengine-legacy/tables/33f0d94d7f6567e637f96fe7178f0cff-d824959c1d5ea9be1472d74c46b8d8a9:getFeatures\n",
      "Please wait ...\n",
      "Data downloaded to /Users/alfredorojas/Downloads/DHS1993_ndvi_92to02_mean.csv\n",
      "Computing statistics ...\n",
      "Generating URL ...\n",
      "Downloading data from https://earthengine.googleapis.com/v1alpha/projects/earthengine-legacy/tables/f7984f2336fe282171b456210b5268d2-d0b1a69cc371887b0d99523574cb5a2f:getFeatures\n",
      "Please wait ...\n",
      "Data downloaded to /Users/alfredorojas/Downloads/DHS1993_ndvi_81to91_max.csv\n",
      "Computing statistics ...\n",
      "Generating URL ...\n",
      "Downloading data from https://earthengine.googleapis.com/v1alpha/projects/earthengine-legacy/tables/a4ff380f72cccf6302a56e0d062c7669-64fa212512bee24685fa53567321fecf:getFeatures\n",
      "Please wait ...\n",
      "Data downloaded to /Users/alfredorojas/Downloads/DHS1993_ndvi_92to02_max.csv\n",
      "Computing statistics ...\n",
      "Generating URL ...\n",
      "Downloading data from https://earthengine.googleapis.com/v1alpha/projects/earthengine-legacy/tables/a37ec144a31eb19c876d14427b1f41a2-35e4d7ccd436f8bef78494082784fc76:getFeatures\n",
      "Please wait ...\n",
      "Data downloaded to /Users/alfredorojas/Downloads/DHS1993_ndvi_81to91_min.csv\n",
      "Computing statistics ...\n",
      "Generating URL ...\n",
      "Downloading data from https://earthengine.googleapis.com/v1alpha/projects/earthengine-legacy/tables/8bf28aa481c500bdfc16a172fbd6ab10-427fbfa7d97e3a9c188bfd6b63179c4c:getFeatures\n",
      "Please wait ...\n",
      "Data downloaded to /Users/alfredorojas/Downloads/DHS1993_ndvi_92to02_min.csv\n"
     ]
    }
   ],
   "source": [
    "## MEANS 81 to 91 and 92 to 02\n",
    "out_ndvi_stats = os.path.join(out_dir, 'DHS1993_ndvi_81to91_mean.csv')  \n",
    "geemap.zonal_statistics(ndvi_bands1, buffers1, out_ndvi_stats, statistics_type = 'MEAN', scale = 9276)\n",
    "\n",
    "out_ndvi_stats = os.path.join(out_dir, 'DHS1993_ndvi_92to02_mean.csv')  \n",
    "geemap.zonal_statistics(ndvi_bands2, buffers1, out_ndvi_stats, statistics_type = 'MEAN', scale = 9276)\n",
    "\n",
    "## MAXIMUM 81 to 91 and 92 to 02 \n",
    "out_ndvi_stats = os.path.join(out_dir, 'DHS1993_ndvi_81to91_max.csv')  \n",
    "geemap.zonal_statistics(ndvi_bands1, buffers1, out_ndvi_stats, statistics_type = 'MAXIMUM', scale = 9276)\n",
    "\n",
    "out_ndvi_stats = os.path.join(out_dir, 'DHS1993_ndvi_92to02_max.csv')  \n",
    "geemap.zonal_statistics(ndvi_bands2, buffers1, out_ndvi_stats, statistics_type = 'MAXIMUM', scale = 9276)\n",
    "\n",
    "## MINIMUM 81 to 91 and 92 to 02\n",
    "out_ndvi_stats = os.path.join(out_dir, 'DHS1993_ndvi_81to91_min.csv')  \n",
    "geemap.zonal_statistics(ndvi_bands1, buffers1, out_ndvi_stats, statistics_type = 'MINIMUM', scale = 9276)\n",
    "\n",
    "out_ndvi_stats = os.path.join(out_dir, 'DHS1993_ndvi_92to02_min.csv')  \n",
    "geemap.zonal_statistics(ndvi_bands2, buffers1, out_ndvi_stats, statistics_type = 'MINIMUM', scale = 9276)"
   ]
  },
  {
   "cell_type": "markdown",
   "metadata": {},
   "source": [
    "### Decadal for 1998 DHS"
   ]
  },
  {
   "cell_type": "code",
   "execution_count": 11,
   "metadata": {},
   "outputs": [
    {
     "name": "stdout",
     "output_type": "stream",
     "text": [
      "Computing statistics ...\n",
      "Generating URL ...\n",
      "Downloading data from https://earthengine.googleapis.com/v1alpha/projects/earthengine-legacy/tables/de13963e6c13d68e49ab4dff489bc469-840912a781ff37d1706eaace2860c082:getFeatures\n",
      "Please wait ...\n",
      "Data downloaded to /Users/alfredorojas/Downloads/DHS1998_ndvi_81to91_mean.csv\n",
      "Computing statistics ...\n",
      "Generating URL ...\n",
      "Downloading data from https://earthengine.googleapis.com/v1alpha/projects/earthengine-legacy/tables/fef0a3ae855a0094778afbf0d2890ffb-fc365471aa7f066b2f349e97d0f1a32c:getFeatures\n",
      "Please wait ...\n",
      "Data downloaded to /Users/alfredorojas/Downloads/DHS1998_ndvi_92to02_mean.csv\n",
      "Computing statistics ...\n",
      "Generating URL ...\n",
      "Downloading data from https://earthengine.googleapis.com/v1alpha/projects/earthengine-legacy/tables/a6bd9652b4f0fe1f572150a0f85a1a2f-0d3c3347911ab7d119284b87831fbb93:getFeatures\n",
      "Please wait ...\n",
      "Data downloaded to /Users/alfredorojas/Downloads/DHS1998_ndvi_03to13_mean.csv\n",
      "Computing statistics ...\n",
      "Generating URL ...\n",
      "Downloading data from https://earthengine.googleapis.com/v1alpha/projects/earthengine-legacy/tables/193fbf0f3310c6add032f87cb5e03632-d29cb17b252100fca1f145764990b45c:getFeatures\n",
      "Please wait ...\n",
      "Data downloaded to /Users/alfredorojas/Downloads/DHS1998_ndvi_81to91_max.csv\n",
      "Computing statistics ...\n",
      "Generating URL ...\n",
      "Downloading data from https://earthengine.googleapis.com/v1alpha/projects/earthengine-legacy/tables/9496ad0483baf2917c84ff0a4d50e15c-19e2eeec8f7853bf97976c7f0362d5f2:getFeatures\n",
      "Please wait ...\n",
      "Data downloaded to /Users/alfredorojas/Downloads/DHS1998_ndvi_92to02_max.csv\n",
      "Computing statistics ...\n",
      "Generating URL ...\n",
      "Downloading data from https://earthengine.googleapis.com/v1alpha/projects/earthengine-legacy/tables/df9a127c66efea64e8926e89401f3f96-78264a68b13972e7e6334808212f5430:getFeatures\n",
      "Please wait ...\n",
      "Data downloaded to /Users/alfredorojas/Downloads/DHS1998_ndvi_03to13_max.csv\n",
      "Computing statistics ...\n",
      "Generating URL ...\n",
      "Downloading data from https://earthengine.googleapis.com/v1alpha/projects/earthengine-legacy/tables/e47fe22d5613b1cae4db32bc777f4974-419c628c086c3a52b0688957febb9f45:getFeatures\n",
      "Please wait ...\n",
      "Data downloaded to /Users/alfredorojas/Downloads/DHS1998_ndvi_81to91_min.csv\n",
      "Computing statistics ...\n",
      "Generating URL ...\n",
      "Downloading data from https://earthengine.googleapis.com/v1alpha/projects/earthengine-legacy/tables/190aeccfa845194e695509d09eab6c2b-8459b02e082aad4833083247da4c1ebc:getFeatures\n",
      "Please wait ...\n",
      "Data downloaded to /Users/alfredorojas/Downloads/DHS1998_ndvi_92to02_min.csv\n",
      "Computing statistics ...\n",
      "Generating URL ...\n",
      "Downloading data from https://earthengine.googleapis.com/v1alpha/projects/earthengine-legacy/tables/11c26ff4d7f5e82b9ab7b1d7e1ac2a47-fff1806838d64922082b6c72b64802a5:getFeatures\n",
      "Please wait ...\n",
      "Data downloaded to /Users/alfredorojas/Downloads/DHS1998_ndvi_03to13_min.csv\n"
     ]
    }
   ],
   "source": [
    "## MEANS 81 to 91, 92 to 02, and 03 to 13\n",
    "out_ndvi_stats = os.path.join(out_dir, 'DHS1998_ndvi_81to91_mean.csv')  \n",
    "geemap.zonal_statistics(ndvi_bands1, buffers2, out_ndvi_stats, statistics_type = 'MEAN', scale = 9276)\n",
    "\n",
    "out_ndvi_stats = os.path.join(out_dir, 'DHS1998_ndvi_92to02_mean.csv')  \n",
    "geemap.zonal_statistics(ndvi_bands2, buffers2, out_ndvi_stats, statistics_type = 'MEAN', scale = 9276)\n",
    "\n",
    "out_ndvi_stats = os.path.join(out_dir, 'DHS1998_ndvi_03to13_mean.csv')  \n",
    "geemap.zonal_statistics(ndvi_bands3, buffers2, out_ndvi_stats, statistics_type = 'MEAN', scale = 9276)\n",
    "\n",
    "## MAXIMUM 81 to 91, 92 to 02, and 03 to 13\n",
    "out_ndvi_stats = os.path.join(out_dir, 'DHS1998_ndvi_81to91_max.csv')  \n",
    "geemap.zonal_statistics(ndvi_bands1, buffers2, out_ndvi_stats, statistics_type = 'MAXIMUM', scale = 9276)\n",
    "\n",
    "out_ndvi_stats = os.path.join(out_dir, 'DHS1998_ndvi_92to02_max.csv')  \n",
    "geemap.zonal_statistics(ndvi_bands2, buffers2, out_ndvi_stats, statistics_type = 'MAXIMUM', scale = 9276)\n",
    "\n",
    "out_ndvi_stats = os.path.join(out_dir, 'DHS1998_ndvi_03to13_max.csv')  \n",
    "geemap.zonal_statistics(ndvi_bands3, buffers2, out_ndvi_stats, statistics_type = 'MAXIMUM', scale = 9276)\n",
    "\n",
    "## MINIMUM 81 to 91, 92 to 02, and 03 to 13\n",
    "out_ndvi_stats = os.path.join(out_dir, 'DHS1998_ndvi_81to91_min.csv')  \n",
    "geemap.zonal_statistics(ndvi_bands1, buffers2, out_ndvi_stats, statistics_type = 'MINIMUM', scale = 9276)\n",
    "\n",
    "out_ndvi_stats = os.path.join(out_dir, 'DHS1998_ndvi_92to02_min.csv')  \n",
    "geemap.zonal_statistics(ndvi_bands2, buffers2, out_ndvi_stats, statistics_type = 'MINIMUM', scale = 9276)\n",
    "\n",
    "out_ndvi_stats = os.path.join(out_dir, 'DHS1998_ndvi_03to13_min.csv')  \n",
    "geemap.zonal_statistics(ndvi_bands3, buffers2, out_ndvi_stats, statistics_type = 'MINIMUM', scale = 9276)"
   ]
  },
  {
   "cell_type": "markdown",
   "metadata": {},
   "source": [
    "### Decadal for 2003 DHS"
   ]
  },
  {
   "cell_type": "code",
   "execution_count": 12,
   "metadata": {},
   "outputs": [
    {
     "name": "stdout",
     "output_type": "stream",
     "text": [
      "Computing statistics ...\n",
      "Generating URL ...\n",
      "Downloading data from https://earthengine.googleapis.com/v1alpha/projects/earthengine-legacy/tables/568a9069182fc5ac399a03c841d9f25d-eebf90ed1be0de5cd2bd83fab4c1c4ad:getFeatures\n",
      "Please wait ...\n",
      "Data downloaded to /Users/alfredorojas/Downloads/DHS2003_ndvi_81to91_mean.csv\n",
      "Computing statistics ...\n",
      "Generating URL ...\n",
      "Downloading data from https://earthengine.googleapis.com/v1alpha/projects/earthengine-legacy/tables/ed6f0484b2a23bd4d10f6f409c90d7f4-5ea88ad5eec04290e8c4bc1aa4543558:getFeatures\n",
      "Please wait ...\n",
      "Data downloaded to /Users/alfredorojas/Downloads/DHS2003_ndvi_92to02_mean.csv\n",
      "Computing statistics ...\n",
      "Generating URL ...\n",
      "Downloading data from https://earthengine.googleapis.com/v1alpha/projects/earthengine-legacy/tables/1336fef503c191f2eaac0b4c5c2b63ea-f18d6e244d231701c11938b4d0987bdc:getFeatures\n",
      "Please wait ...\n",
      "Data downloaded to /Users/alfredorojas/Downloads/DHS2003_ndvi_03to13_mean.csv\n",
      "Computing statistics ...\n",
      "Generating URL ...\n",
      "Downloading data from https://earthengine.googleapis.com/v1alpha/projects/earthengine-legacy/tables/f5ca767161489c782f14db6c80371c5a-139e60ecd7c6b971ee538c9598d0ba00:getFeatures\n",
      "Please wait ...\n",
      "Data downloaded to /Users/alfredorojas/Downloads/DHS2003_ndvi_81to91_max.csv\n",
      "Computing statistics ...\n",
      "Generating URL ...\n",
      "Downloading data from https://earthengine.googleapis.com/v1alpha/projects/earthengine-legacy/tables/e891d6f720c68eae7f3313c18ba282ff-33e2ebededb17f6009d276e0475b48e0:getFeatures\n",
      "Please wait ...\n",
      "Data downloaded to /Users/alfredorojas/Downloads/DHS2003_ndvi_92to02_max.csv\n",
      "Computing statistics ...\n",
      "Generating URL ...\n",
      "Downloading data from https://earthengine.googleapis.com/v1alpha/projects/earthengine-legacy/tables/71d73de02eb05b30592d8066813886cd-b8dd2eb0dc899ac1396ecebed1392104:getFeatures\n",
      "Please wait ...\n",
      "Data downloaded to /Users/alfredorojas/Downloads/DHS2003_ndvi_03to13_max.csv\n",
      "Computing statistics ...\n",
      "Generating URL ...\n",
      "Downloading data from https://earthengine.googleapis.com/v1alpha/projects/earthengine-legacy/tables/bb2b46e1142d6a552563307b654f5e57-72c8f2aea69862c77301c2b7c72839f1:getFeatures\n",
      "Please wait ...\n",
      "Data downloaded to /Users/alfredorojas/Downloads/DHS2003_ndvi_81to91_min.csv\n",
      "Computing statistics ...\n",
      "Generating URL ...\n",
      "Downloading data from https://earthengine.googleapis.com/v1alpha/projects/earthengine-legacy/tables/5f9b6acffa9c054bee7b53232060e497-318e43c069cf0c78c336e0340562cd09:getFeatures\n",
      "Please wait ...\n",
      "Data downloaded to /Users/alfredorojas/Downloads/DHS2003_ndvi_92to02_min.csv\n",
      "Computing statistics ...\n",
      "Generating URL ...\n",
      "Downloading data from https://earthengine.googleapis.com/v1alpha/projects/earthengine-legacy/tables/edf0a5118979ba9e17dd421ece50527c-ad5d5c91e10118089a6ba5ef35a433b5:getFeatures\n",
      "Please wait ...\n",
      "Data downloaded to /Users/alfredorojas/Downloads/DHS2003_ndvi_03to13_min.csv\n"
     ]
    }
   ],
   "source": [
    "## MEANS 81 to 91, 92 to 02, and 03 to 13\n",
    "out_ndvi_stats = os.path.join(out_dir, 'DHS2003_ndvi_81to91_mean.csv')  \n",
    "geemap.zonal_statistics(ndvi_bands1, buffers3, out_ndvi_stats, statistics_type = 'MEAN', scale = 9276)\n",
    "\n",
    "out_ndvi_stats = os.path.join(out_dir, 'DHS2003_ndvi_92to02_mean.csv')  \n",
    "geemap.zonal_statistics(ndvi_bands2, buffers3, out_ndvi_stats, statistics_type = 'MEAN', scale = 9276)\n",
    "\n",
    "out_ndvi_stats = os.path.join(out_dir, 'DHS2003_ndvi_03to13_mean.csv')  \n",
    "geemap.zonal_statistics(ndvi_bands3, buffers3, out_ndvi_stats, statistics_type = 'MEAN', scale = 9276)\n",
    "\n",
    "## MAXIMUM 81 to 91, 92 to 02, and 03 to 13\n",
    "out_ndvi_stats = os.path.join(out_dir, 'DHS2003_ndvi_81to91_max.csv')  \n",
    "geemap.zonal_statistics(ndvi_bands1, buffers3, out_ndvi_stats, statistics_type = 'MAXIMUM', scale = 9276)\n",
    "\n",
    "out_ndvi_stats = os.path.join(out_dir, 'DHS2003_ndvi_92to02_max.csv')  \n",
    "geemap.zonal_statistics(ndvi_bands2, buffers3, out_ndvi_stats, statistics_type = 'MAXIMUM', scale = 9276)\n",
    "\n",
    "out_ndvi_stats = os.path.join(out_dir, 'DHS2003_ndvi_03to13_max.csv')  \n",
    "geemap.zonal_statistics(ndvi_bands3, buffers3, out_ndvi_stats, statistics_type = 'MAXIMUM', scale = 9276)\n",
    "\n",
    "## MINIMUM 81 to 91, 92 to 02, and 03 to 13\n",
    "out_ndvi_stats = os.path.join(out_dir, 'DHS2003_ndvi_81to91_min.csv')  \n",
    "geemap.zonal_statistics(ndvi_bands1, buffers3, out_ndvi_stats, statistics_type = 'MINIMUM', scale = 9276)\n",
    "\n",
    "out_ndvi_stats = os.path.join(out_dir, 'DHS2003_ndvi_92to02_min.csv')  \n",
    "geemap.zonal_statistics(ndvi_bands2, buffers3, out_ndvi_stats, statistics_type = 'MINIMUM', scale = 9276)\n",
    "\n",
    "out_ndvi_stats = os.path.join(out_dir, 'DHS2003_ndvi_03to13_min.csv')  \n",
    "geemap.zonal_statistics(ndvi_bands3, buffers3, out_ndvi_stats, statistics_type = 'MINIMUM', scale = 9276)"
   ]
  },
  {
   "cell_type": "markdown",
   "metadata": {},
   "source": [
    "### Decadal for 2010 DHS"
   ]
  },
  {
   "cell_type": "code",
   "execution_count": 13,
   "metadata": {},
   "outputs": [
    {
     "name": "stdout",
     "output_type": "stream",
     "text": [
      "Computing statistics ...\n",
      "Generating URL ...\n",
      "Downloading data from https://earthengine.googleapis.com/v1alpha/projects/earthengine-legacy/tables/0138e556dca64bf7ea0daef0357e39eb-3cf9c4fe1e80b5faf7b3634dce21e195:getFeatures\n",
      "Please wait ...\n",
      "Data downloaded to /Users/alfredorojas/Downloads/DHS2010_ndvi_81to91_mean.csv\n",
      "Computing statistics ...\n",
      "Generating URL ...\n",
      "Downloading data from https://earthengine.googleapis.com/v1alpha/projects/earthengine-legacy/tables/229dc85b56773ca68174f6968181b26f-92867c832f0acd9549cd78cf94f913a9:getFeatures\n",
      "Please wait ...\n",
      "Data downloaded to /Users/alfredorojas/Downloads/DHS2010_ndvi_92to02_mean.csv\n",
      "Computing statistics ...\n",
      "Generating URL ...\n",
      "Downloading data from https://earthengine.googleapis.com/v1alpha/projects/earthengine-legacy/tables/1f38d3c5dc332384b029158b3280cd03-f46da97acccd0f926d9e9c0b5b335d19:getFeatures\n",
      "Please wait ...\n",
      "Data downloaded to /Users/alfredorojas/Downloads/DHS2010_ndvi_03to13_mean.csv\n",
      "Computing statistics ...\n",
      "Generating URL ...\n",
      "Downloading data from https://earthengine.googleapis.com/v1alpha/projects/earthengine-legacy/tables/3ebb6074a7c891b1b68bdcb05a9218da-1e61b1f9591f0377a62ad9deb19dc118:getFeatures\n",
      "Please wait ...\n",
      "Data downloaded to /Users/alfredorojas/Downloads/DHS2010_ndvi_81to91_max.csv\n",
      "Computing statistics ...\n",
      "Generating URL ...\n",
      "Downloading data from https://earthengine.googleapis.com/v1alpha/projects/earthengine-legacy/tables/e5dbf8b0a3a024fef81e10e9dae92275-a2a3d7a48b0e6a092c92a9e81063d464:getFeatures\n",
      "Please wait ...\n",
      "Data downloaded to /Users/alfredorojas/Downloads/DHS2010_ndvi_92to02_max.csv\n",
      "Computing statistics ...\n",
      "Generating URL ...\n",
      "Downloading data from https://earthengine.googleapis.com/v1alpha/projects/earthengine-legacy/tables/9ee000020d40b4df6446d2c1fbc88a6e-5f1ea0bee50ff986542507f6ad3903f7:getFeatures\n",
      "Please wait ...\n",
      "Data downloaded to /Users/alfredorojas/Downloads/DHS2010_ndvi_03to13_max.csv\n",
      "Computing statistics ...\n",
      "Generating URL ...\n",
      "Downloading data from https://earthengine.googleapis.com/v1alpha/projects/earthengine-legacy/tables/d1bd289a84f9e5f71f8eab87a7a336d3-2d4193da3734b4b9f0411c7b225bbf3b:getFeatures\n",
      "Please wait ...\n",
      "Data downloaded to /Users/alfredorojas/Downloads/DHS2010_ndvi_81to91_min.csv\n",
      "Computing statistics ...\n",
      "Generating URL ...\n",
      "Downloading data from https://earthengine.googleapis.com/v1alpha/projects/earthengine-legacy/tables/cc5e7bb7a6601408ba6b3290e1395a0e-469baebd1dca13e45e553763e42dae9e:getFeatures\n",
      "Please wait ...\n",
      "Data downloaded to /Users/alfredorojas/Downloads/DHS2010_ndvi_92to02_min.csv\n",
      "Computing statistics ...\n",
      "Generating URL ...\n",
      "Downloading data from https://earthengine.googleapis.com/v1alpha/projects/earthengine-legacy/tables/979372476cc4209b0abd829f95357db1-163e0d6dcaedeb8663db540a85fb1697:getFeatures\n",
      "Please wait ...\n",
      "Data downloaded to /Users/alfredorojas/Downloads/DHS2010_ndvi_03to13_min.csv\n"
     ]
    }
   ],
   "source": [
    "## MEANS 81 to 91, 92 to 02, and 03 to 13\n",
    "out_ndvi_stats = os.path.join(out_dir, 'DHS2010_ndvi_81to91_mean.csv')  \n",
    "geemap.zonal_statistics(ndvi_bands1, buffers4, out_ndvi_stats, statistics_type = 'MEAN', scale = 9276)\n",
    "\n",
    "out_ndvi_stats = os.path.join(out_dir, 'DHS2010_ndvi_92to02_mean.csv')  \n",
    "geemap.zonal_statistics(ndvi_bands2, buffers4, out_ndvi_stats, statistics_type = 'MEAN', scale = 9276)\n",
    "\n",
    "out_ndvi_stats = os.path.join(out_dir, 'DHS2010_ndvi_03to13_mean.csv')  \n",
    "geemap.zonal_statistics(ndvi_bands3, buffers4, out_ndvi_stats, statistics_type = 'MEAN', scale = 9276)\n",
    "\n",
    "## MAXIMUM 81 to 91, 92 to 02, and 03 to 13\n",
    "out_ndvi_stats = os.path.join(out_dir, 'DHS2010_ndvi_81to91_max.csv')  \n",
    "geemap.zonal_statistics(ndvi_bands1, buffers4, out_ndvi_stats, statistics_type = 'MAXIMUM', scale = 9276)\n",
    "\n",
    "out_ndvi_stats = os.path.join(out_dir, 'DHS2010_ndvi_92to02_max.csv')  \n",
    "geemap.zonal_statistics(ndvi_bands2, buffers4, out_ndvi_stats, statistics_type = 'MAXIMUM', scale = 9276)\n",
    "\n",
    "out_ndvi_stats = os.path.join(out_dir, 'DHS2010_ndvi_03to13_max.csv')  \n",
    "geemap.zonal_statistics(ndvi_bands3, buffers4, out_ndvi_stats, statistics_type = 'MAXIMUM', scale = 9276)\n",
    "\n",
    "## MINIMUM 81 to 91, 92 to 02, and 03 to 13\n",
    "out_ndvi_stats = os.path.join(out_dir, 'DHS2010_ndvi_81to91_min.csv')  \n",
    "geemap.zonal_statistics(ndvi_bands1, buffers4, out_ndvi_stats, statistics_type = 'MINIMUM', scale = 9276)\n",
    "\n",
    "out_ndvi_stats = os.path.join(out_dir, 'DHS2010_ndvi_92to02_min.csv')  \n",
    "geemap.zonal_statistics(ndvi_bands2, buffers4, out_ndvi_stats, statistics_type = 'MINIMUM', scale = 9276)\n",
    "\n",
    "out_ndvi_stats = os.path.join(out_dir, 'DHS2010_ndvi_03to13_min.csv')  \n",
    "geemap.zonal_statistics(ndvi_bands3, buffers4, out_ndvi_stats, statistics_type = 'MINIMUM', scale = 9276)"
   ]
  },
  {
   "cell_type": "code",
   "execution_count": null,
   "metadata": {},
   "outputs": [],
   "source": []
  }
 ],
 "metadata": {
  "kernelspec": {
   "display_name": "Python 3",
   "language": "python",
   "name": "python3"
  },
  "language_info": {
   "codemirror_mode": {
    "name": "ipython",
    "version": 3
   },
   "file_extension": ".py",
   "mimetype": "text/x-python",
   "name": "python",
   "nbconvert_exporter": "python",
   "pygments_lexer": "ipython3",
   "version": "3.8.5"
  }
 },
 "nbformat": 4,
 "nbformat_minor": 4
}
